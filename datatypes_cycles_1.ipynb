{
 "cells": [
  {
   "cell_type": "markdown",
   "metadata": {},
   "source": [
    "Задание 1\n",
    "Дана переменная, в которой хранится слово из латинских букв. Напишите код, который выводит на экран:\n",
    "среднюю букву, если число букв в слове нечетное;\n",
    "две средних буквы, если число букв четное.\n",
    "Примеры работы программы:\n",
    "\n",
    "word = 'test'\n",
    "Результат:\n",
    "es\n",
    "\n",
    "word = 'testing'\n",
    "Результат:\n",
    "t"
   ]
  },
  {
   "cell_type": "code",
   "execution_count": 3,
   "metadata": {},
   "outputs": [
    {
     "name": "stdout",
     "output_type": "stream",
     "text": [
      "ар\n"
     ]
    }
   ],
   "source": [
    "word = input('Введите слово: ...')\n",
    "length = len(word)\n",
    "if length % 2 == 0:\n",
    "    middle = word[length//2 - 1:length//2 + 1]\n",
    "else:\n",
    "    middle = word[length//2]\n",
    "print(middle)"
   ]
  },
  {
   "cell_type": "markdown",
   "metadata": {},
   "source": [
    "Задание 2\n",
    "Напишите программу, которая последовательно запрашивает у пользователя числа (по одному за раз) и после первого нуля выводит сумму всех ранее введенных чисел.\n",
    "Примеры работы программы:\n",
    "1.\n",
    "\n",
    "Введите число:  \n",
    "1\n",
    "\n",
    "Введите число:  \n",
    "4\n",
    "\n",
    "Введите число:  \n",
    "6\n",
    "\n",
    "Введите число:  \n",
    "0\n",
    "Результат:\n",
    "11\n",
    "\n",
    "Введите число:  \n",
    "0\n",
    "Результат:\n",
    "0"
   ]
  },
  {
   "cell_type": "code",
   "execution_count": 11,
   "metadata": {},
   "outputs": [
    {
     "name": "stdout",
     "output_type": "stream",
     "text": [
      "Сумма введенных чисел: 7\n"
     ]
    }
   ],
   "source": [
    "def main():\n",
    "    summa = 0\n",
    "    while True:\n",
    "        number = int(input('Введите число:...'))\n",
    "        if number == 0:\n",
    "            break\n",
    "        summa += number\n",
    "    print('Сумма введенных чисел:', summa)\n",
    "if __name__ == '__main__':\n",
    "    main()"
   ]
  },
  {
   "cell_type": "markdown",
   "metadata": {},
   "source": [
    "Задание 3\n",
    "Мы делаем MVP dating-сервиса, и у нас есть список парней и девушек.\n",
    "Выдвигаем гипотезу: лучшие рекомендации мы получим, если просто отсортируем имена по алфавиту и познакомим людей с одинаковыми индексами после сортировки! Но мы не будем никого знакомить, если кто-то может остаться без пары.\n",
    "Примеры работы программы:\n",
    "1.\n",
    "\n",
    "boys = ['Peter', 'Alex', 'John', 'Arthur', 'Richard']\n",
    "girls = ['Kate', 'Liza', 'Kira', 'Emma', 'Trisha']\n",
    "Результат:\n",
    "\n",
    "Идеальные пары:  \n",
    "Alex и Emma  \n",
    "Arthur и Kate  \n",
    "John и Kira  \n",
    "Peter и Liza  \n",
    "Richard и Trisha \n",
    "boys = ['Peter', 'Alex', 'John', 'Arthur', 'Richard', 'Michael']\n",
    "girls = ['Kate', 'Liza', 'Kira', 'Emma', 'Trisha']\n",
    "Результат:\n",
    "Внимание, кто-то может остаться без пары!"
   ]
  },
  {
   "cell_type": "code",
   "execution_count": 10,
   "metadata": {},
   "outputs": [
    {
     "name": "stdout",
     "output_type": "stream",
     "text": [
      "Результат №1\n",
      "Идеальные пары:\n",
      "Alex и Emma\n",
      "Arthur и Kate\n",
      "John и Kira\n",
      "Peter и Liza\n",
      "Richard и Trisha\n",
      "\n",
      "Результат №2\n",
      "Внимание, кто-то может остаться без пары!\n"
     ]
    }
   ],
   "source": [
    "def match_pairs(boys, girls):\n",
    "    if len(boys) != len(girls):\n",
    "        return 'Внимание, кто-то может остаться без пары!'\n",
    "    \n",
    "    boys_sorted = sorted(boys)\n",
    "    girls_sorted = sorted(girls)\n",
    "    \n",
    "    result = 'Идеальные пары:\\n'\n",
    "    for boy, girl in zip(boys_sorted, girls_sorted):\n",
    "        result += f\"{boy} и {girl}\\n\"\n",
    "    \n",
    "    return result.strip()\n",
    "\n",
    "boys1 = ['Peter', 'Alex', 'John', 'Arthur', 'Richard']\n",
    "girls1 = ['Kate', 'Liza', 'Kira', 'Emma', 'Trisha']\n",
    "print('Результат №1')\n",
    "print(match_pairs(boys1, girls1))\n",
    "print()\n",
    "print('Результат №2')\n",
    "boys2 = ['Peter', 'Alex', 'John', 'Arthur', 'Richard', 'Michael']\n",
    "girls2 = ['Kate', 'Liza', 'Kira', 'Emma', 'Trisha']\n",
    "print(match_pairs(boys2, girls2))\n"
   ]
  },
  {
   "cell_type": "markdown",
   "metadata": {},
   "source": [
    "Задание 3 (вариант с вводом имен)"
   ]
  },
  {
   "cell_type": "code",
   "execution_count": 9,
   "metadata": {},
   "outputs": [
    {
     "name": "stdout",
     "output_type": "stream",
     "text": [
      "Идеальные пары:\n",
      "Адольф и Алина\n",
      "Ваня и Ира\n",
      "Петя и Катя\n"
     ]
    }
   ],
   "source": [
    "boys = input('Введите имена парней через запятую:...')\n",
    "girls = input('Введите имена девушек через запятую:...')\n",
    "boys = boys.replace(' ', '').split(',')\n",
    "girls = girls.replace(' ', '').split(',')\n",
    "\n",
    "def match_pairs(boys, girls):\n",
    "    if len(boys) != len(girls):\n",
    "        return 'Внимание, кто-то может остаться без пары!'\n",
    "    \n",
    "    boys_sorted = sorted(boys)\n",
    "    girls_sorted = sorted(girls)\n",
    "    \n",
    "    result = 'Идеальные пары:\\n'\n",
    "    for boy, girl in zip(boys_sorted, girls_sorted):\n",
    "        result += f'{boy} и {girl}\\n'\n",
    "    \n",
    "    return result.strip()\n",
    "\n",
    "print(match_pairs(boys, girls))"
   ]
  },
  {
   "cell_type": "markdown",
   "metadata": {},
   "source": [
    "Задание 4\n",
    "У нас есть список, содержащий информацию о среднедневной температуре в Фаренгейтах за произвольный период по странам (структура данных в примере). Необходимо написать код, который рассчитает среднюю температуру за период в Цельсиях(!) для каждой страны.\n",
    "Пример работы программы:\n",
    "\n",
    "countries_temperature = [\n",
    "    ['Таиланд', [75.2, 77, 78.8, 73.4, 68, 75.2, 77]],\n",
    "    ['Германия', [57.2, 55.4, 59, 59, 53.6]],\n",
    "    ['Россия', [35.6, 37.4, 39.2, 41, 42.8, 39.2, 35.6]],\n",
    "    ['Польша', [50, 50, 53.6, 57.2, 55.4, 55.4]]\n",
    "]\n",
    "Результат:\n",
    "\n",
    "Средняя температура в странах:\n",
    "Таиланд  -  23.9 С\n",
    "Германия  -  13.8 С\n",
    "Россия  -  3.7 С\n",
    "Польша  -  12.0 С"
   ]
  },
  {
   "cell_type": "code",
   "execution_count": 8,
   "metadata": {},
   "outputs": [
    {
     "name": "stdout",
     "output_type": "stream",
     "text": [
      "Средняя температура в странах:\n",
      "Таиланд  -  23.9 С\n",
      "Германия  -  13.8 С\n",
      "Россия  -  3.7 С\n",
      "Польша  -  12.0 С\n"
     ]
    }
   ],
   "source": [
    "countries_temperature = [\n",
    "    ['Таиланд', [75.2, 77, 78.8, 73.4, 68, 75.2, 77]],\n",
    "    ['Германия', [57.2, 55.4, 59, 59, 53.6]],\n",
    "    ['Россия', [35.6, 37.4, 39.2, 41, 42.8, 39.2, 35.6]],\n",
    "    ['Польша', [50, 50, 53.6, 57.2, 55.4, 55.4]]\n",
    "]\n",
    "\n",
    "def fahrenheit_to_celsius(f):\n",
    "    return (f - 32) * 5.0 / 9.0\n",
    "\n",
    "print('Средняя температура в странах:')\n",
    "for country, temperatures in countries_temperature:\n",
    "    avg_fahrenheit = sum(temperatures) / len(temperatures)\n",
    "    avg_celsius = fahrenheit_to_celsius(avg_fahrenheit)\n",
    "    print(f'{country}  -  {avg_celsius:.1f} С')\n"
   ]
  },
  {
   "cell_type": "markdown",
   "metadata": {},
   "source": [
    "Задание 5 \n",
    "Имеется список с транспортными номерами. Необходимо написать код, который проверит каждый номер на валидность (1 буква, 3 цифры, 2 буквы, 2-3 цифры). Обратите внимание, что не все буквы кириллического алфавита используются в транспортных номерах.\n",
    "\n",
    "Если номер валиден, то вывести его в нужном формавте (пример ниже), а если не валиден — вывести текст. При решении помогут регулярные выражения, с которыми будет знакомство на практике.\n",
    "\n",
    "Примеры работы программы:\n",
    "\n",
    "car_ids = ['А222ВС96', 'АБ22ВВ193']\n",
    "\n",
    "Результат:\n",
    "\n",
    "Номер А222ВС валиден. Регион: 96\n",
    "Номер АБ22ВВ193 не валиден"
   ]
  },
  {
   "cell_type": "code",
   "execution_count": 19,
   "metadata": {},
   "outputs": [
    {
     "name": "stdout",
     "output_type": "stream",
     "text": [
      "Номер АБ22ВВ193 не валиден\n"
     ]
    }
   ],
   "source": [
    "import re\n",
    "\n",
    "car_ids = input('Введите номер автомобиля: ').split()\n",
    "\n",
    "def validate_car_ids(car_ids):\n",
    "    pattern = r'^[АВЕКМНОРСТУХ]\\d{3}[АВЕКМНОРСТУХ]{2}\\d{2,3}$'\n",
    "    \n",
    "    for car_id in car_ids:\n",
    "        if re.match(pattern, car_id):\n",
    "            region = car_id[-2:] if len(car_id) == 8 else car_id[-3:]\n",
    "            print(f'Номер {car_id[:-len(region)]} валиден. Регион: {region}')\n",
    "        else:\n",
    "            print(f'Номер {car_id} не валиден')\n",
    "\n",
    "validate_car_ids(car_ids)\n"
   ]
  },
  {
   "cell_type": "markdown",
   "metadata": {},
   "source": [
    "Задание 6 \n",
    "Дан поток логов по количеству просмотренных страниц для каждого пользователя (пользователь,дата;просмотры). Вам необходимо написать алгоритм, который считает среднее значение просмотров на пользователя. Т. е. надо посчитать отношение суммы всех просмотров к количеству уникальных пользователей. И тут регулярные выражения облегчат немного реализацию.\n",
    "\n",
    "Примеры работы программы:\n",
    "1.\n",
    "\n",
    "stream = [\n",
    "    'user4,2021-01-01;3',\n",
    "    'user3,2022-01-07;4',\n",
    "    'user2,2022-03-29;1',\n",
    "    'user1,2020-04-04;13',\n",
    "    'user2,2022-01-05;7',\n",
    "    'user1,2021-06-14;4',\n",
    "    'user3,2022-07-02;10',\n",
    "    'user4,2021-03-21;19',\n",
    "    'user4,2022-03-22;4',\n",
    "    'user4,2022-04-22;8',\n",
    "    'user4,2021-05-03;9',\n",
    "    'user4,2022-05-11;11'\n",
    "]\n",
    "Результат:\n",
    "Среднее количество просмотров на уникального пользователя: 23.25\n",
    "\n",
    "stream = [\n",
    "    'user100,2022-01-01;150',\n",
    "    'user99,2022-01-07;205',\n",
    "    'user1001,2022-03-29;81'\n",
    "]\n",
    "Результат:\n",
    "Среднее количество просмотров на уникального пользователя: 145.33"
   ]
  },
  {
   "cell_type": "code",
   "execution_count": 21,
   "metadata": {},
   "outputs": [
    {
     "name": "stdout",
     "output_type": "stream",
     "text": [
      "Среднее количество просмотров на уникального пользователя: 23.25\n",
      "Среднее количество просмотров на уникального пользователя: 145.33\n"
     ]
    }
   ],
   "source": [
    "import re\n",
    "from collections import defaultdict\n",
    "\n",
    "def calculate_avg_views(stream):\n",
    "    user_views = defaultdict(int)\n",
    "    unique_users = set()\n",
    "\n",
    "    for entry in stream:\n",
    "        match = re.match(r'(user\\d+),.*?;(\\d+)', entry)\n",
    "        if match:\n",
    "            user, views = match.groups()\n",
    "            views = int(views)\n",
    "            user_views[user] += views\n",
    "            unique_users.add(user)\n",
    "    \n",
    "    total_views = sum(user_views.values())\n",
    "    avg_views = total_views / len(unique_users)\n",
    "\n",
    "    return avg_views\n",
    "\n",
    "stream1 = [\n",
    "    'user4,2021-01-01;3',\n",
    "    'user3,2022-01-07;4',\n",
    "    'user2,2022-03-29;1',\n",
    "    'user1,2020-04-04;13',\n",
    "    'user2,2022-01-05;7',\n",
    "    'user1,2021-06-14;4',\n",
    "    'user3,2022-07-02;10',\n",
    "    'user4,2021-03-21;19',\n",
    "    'user4,2022-03-22;4',\n",
    "    'user4,2022-04-22;8',\n",
    "    'user4,2021-05-03;9',\n",
    "    'user4,2022-05-11;11'\n",
    "]\n",
    "\n",
    "stream2 = [\n",
    "    'user100,2022-01-01;150',\n",
    "    'user99,2022-01-07;205',\n",
    "    'user1001,2022-03-29;81'\n",
    "]\n",
    "\n",
    "print(f'Среднее количество просмотров на уникального пользователя: {calculate_avg_views(stream1):.2f}')\n",
    "print(f'Среднее количество просмотров на уникального пользователя: {calculate_avg_views(stream2):.2f}')\n"
   ]
  }
 ],
 "metadata": {
  "kernelspec": {
   "display_name": "Python 3",
   "language": "python",
   "name": "python3"
  },
  "language_info": {
   "codemirror_mode": {
    "name": "ipython",
    "version": 3
   },
   "file_extension": ".py",
   "mimetype": "text/x-python",
   "name": "python",
   "nbconvert_exporter": "python",
   "pygments_lexer": "ipython3",
   "version": "3.11.9"
  }
 },
 "nbformat": 4,
 "nbformat_minor": 2
}
