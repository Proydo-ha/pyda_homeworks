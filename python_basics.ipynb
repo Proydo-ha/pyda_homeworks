{
 "cells": [
  {
   "cell_type": "markdown",
   "metadata": {},
   "source": [
    "Даны 2 переменных, в которых хранятся строки произвольной длины: phrase_1 и phrase_2.\n",
    "Напишите код, который проверяет какая из этих строк длиннее."
   ]
  },
  {
   "cell_type": "code",
   "execution_count": null,
   "metadata": {},
   "outputs": [],
   "source": [
    "phrase_1=str(input('Введите фразу 1:'))\n",
    "phrase_2=str(input('Введите фразу 2:'))\n",
    "if len(phrase_1)>len(phrase_2): \n",
    "    print('Фраза 1 длиннее фразы 2')\n",
    "elif len(phrase_1)<len(phrase_2): \n",
    "    print('Фраза 2 длиннее фразы 1')\n",
    "else: print('Фразы равны')"
   ]
  },
  {
   "cell_type": "markdown",
   "metadata": {},
   "source": [
    "Результат: Фраза 1 длиннее фразы 2\n",
    "\n",
    "Введите фразу 1:Насколько проще было бы писать программы, если бы не заказчики\n",
    "Введите фразу 2:640Кб должно хватить для любых задач. Билл Гейтс (по легенде)\n",
    "\n",
    "\n",
    "Результат: Фраза 2 длиннее фразы 1\n",
    "\n",
    "Введите фразу 1:640Кб должно хватить для любых задач. Билл Гейтс (по легенде)\n",
    "Введите фразу 2:Насколько проще было бы писать программы, если бы не заказчики\n"
   ]
  }
 ],
 "metadata": {
  "kernelspec": {
   "display_name": "Python 3",
   "language": "python",
   "name": "python3"
  },
  "language_info": {
   "codemirror_mode": {
    "name": "ipython",
    "version": 3
   },
   "file_extension": ".py",
   "mimetype": "text/x-python",
   "name": "python",
   "nbconvert_exporter": "python",
   "pygments_lexer": "ipython3",
   "version": "3.11.9"
  }
 },
 "nbformat": 4,
 "nbformat_minor": 2
}
