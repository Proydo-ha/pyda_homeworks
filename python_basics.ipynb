{
 "cells": [
  {
   "cell_type": "markdown",
   "metadata": {},
   "source": [
    "ЗАДАНИЕ 1\n",
    "Даны 2 переменных, в которых хранятся строки произвольной длины: phrase_1 и phrase_2.\n",
    "Напишите код, который проверяет какая из этих строк длиннее."
   ]
  },
  {
   "cell_type": "code",
   "execution_count": 1,
   "metadata": {},
   "outputs": [
    {
     "name": "stdout",
     "output_type": "stream",
     "text": [
      "Фраза 1 длиннее фразы 2\n"
     ]
    }
   ],
   "source": [
    "phrase_1=str(input('Введите фразу 1:'))\n",
    "phrase_2=str(input('Введите фразу 2:'))\n",
    "if len(phrase_1)>len(phrase_2): \n",
    "    print('Фраза 1 длиннее фразы 2')\n",
    "elif len(phrase_1)<len(phrase_2): \n",
    "    print('Фраза 2 длиннее фразы 1')\n",
    "else: print('Фразы равны')"
   ]
  },
  {
   "cell_type": "markdown",
   "metadata": {},
   "source": [
    "ЗАДАНИЕ 2\n",
    "Дана переменная, в которой хранится число (год). Необходимо написать программу, которая выведет, является ли данный год високосным или обычным."
   ]
  },
  {
   "cell_type": "code",
   "execution_count": 1,
   "metadata": {},
   "outputs": [
    {
     "name": "stdout",
     "output_type": "stream",
     "text": [
      "Високосный год\n"
     ]
    }
   ],
   "source": [
    "year=int(input('Введите год:'))\n",
    "if (year % 4 == 0) and (year % 100 != 0) or (year % 400 == 0):\n",
    "    print('Високосный год')\n",
    "else: print('Обычный год')"
   ]
  },
  {
   "cell_type": "markdown",
   "metadata": {},
   "source": [
    "ЗАДАНИЕ 3 \n",
    "\n",
    "Необходимо написать программу, которая будет запрашивать у пользователя месяц и дату рождения и выводить соответствующий знак зодиака."
   ]
  },
  {
   "cell_type": "code",
   "execution_count": 7,
   "metadata": {},
   "outputs": [
    {
     "name": "stdout",
     "output_type": "stream",
     "text": [
      "Ваш знак: \n",
      " Дева\n"
     ]
    }
   ],
   "source": [
    "Month=str(input('Введите месяц:'))\n",
    "Day=int(input('Введите день:'))\n",
    "if ((Month=='Декабрь' and Day >= 22)or(Month=='Январь' and Day<= 19)):\n",
    "        zodiac_sign = (\"\\n Козерог\")\n",
    "elif ((Month=='Январь' and Day >= 20)or(Month=='Февраль' and Day<= 17)):\n",
    "        zodiac_sign = (\"\\n Водолей\")\n",
    "elif ((Month=='Февраль' and Day >= 18)or(Month=='Март' and Day<= 19)):\n",
    "        zodiac_sign = (\"\\n Рыбы\")\n",
    "elif ((Month=='Март' and Day >= 20)or(Month=='Апрель' and Day<= 19)):\n",
    "        zodiac_sign = (\"\\n Овен\")\n",
    "elif ((Month=='Апрель' and Day >= 20)or(Month=='Май' and Day<= 20)):\n",
    "        zodiac_sign = (\"\\n Телец\")\n",
    "elif ((Month=='Май' and Day >= 21)or(Month=='Июнь' and Day<= 20)):\n",
    "        zodiac_sign = (\"\\n Близнецы\")\n",
    "elif ((Month=='Июнь' and Day >= 21)or(Month=='Июль' and Day<= 22)):\n",
    "        zodiac_sign = (\"\\n Рак\")\n",
    "elif ((Month=='Июль' and Day >= 23)or(Month=='Август' and Day<= 22)): \n",
    "        zodiac_sign = (\"\\n Лев\")\n",
    "elif ((Month=='Август' and Day >= 23)or(Month=='Сентябрь' and Day<= 22)): \n",
    "        zodiac_sign = (\"\\n Дева\")\n",
    "elif ((Month=='Сентябрь' and Day >= 23)or(Month=='Октябрь' and Day<= 22)):\n",
    "        zodiac_sign = (\"\\n Весы\")\n",
    "elif ((Month=='Октябрь' and Day >= 23)or(Month=='Ноябрь' and Day<= 21)): \n",
    "        zodiac_sign = (\"\\n Скорпион\")\n",
    "elif ((Month=='Ноябрь' and Day >= 22)or(Month=='Декабрь' and Day<= 21)):\n",
    "        zodiac_sign = (\"\\n Стрелец\")\n",
    "print('Ваш знак:', zodiac_sign)"
   ]
  },
  {
   "cell_type": "markdown",
   "metadata": {},
   "source": [
    "ЗАДАНИЕ 4\n",
    "Вам нужно написать программу для подбора упаковок по размерам товара. Размеры (ширина, длина, высота) хранятся в переменных (в сантиметрах):\n",
    "\n",
    "Используйте следующие правила:\n",
    "\n",
    "если каждое из трех измерений менее или равно 15 сантиметрам, то выведите на экран \"Коробка №1\";\n",
    "если хотя бы одно из измерений больше 2 метров, то выводите \"Упаковка для лыж\";\n",
    "если хотя бы одно из измерений больше 15 сантиметров, но менее 50 сантиметров, то выводите \"Коробка №2\";\n",
    "во всех остальных случаях выводите \"Коробка №3\"."
   ]
  },
  {
   "cell_type": "code",
   "execution_count": 4,
   "metadata": {},
   "outputs": [
    {
     "name": "stdout",
     "output_type": "stream",
     "text": [
      "Упаковка для лыж\n"
     ]
    }
   ],
   "source": [
    "width=int(input('Введите ширину в см:'))\n",
    "length=int(input('Введите длину в см:'))\n",
    "height=int(input('Введите высоту в см:'))\n",
    "if width<=15 and length<=15 and height<=15:\n",
    "    print ('Коробка №1')\n",
    "elif (width>15 or length>15 or height>15) and (width<50 and length<50 and height<50):\n",
    "    print ('Коробка №2')\n",
    "elif length>200 or width>200 or height>200:\n",
    "    print ('Упаковка для лыж')\n",
    "else:\n",
    "    print ('Стандартная коробка №3')"
   ]
  },
  {
   "cell_type": "markdown",
   "metadata": {},
   "source": [
    "ЗАДАНИЕ 5\n",
    "\n",
    "Дана переменная, в которой хранится шестизначное число (номер проездного билета). Напишите программу, которая будет определять, является ли данный билет \"счастливым\". Билет считается счастливым, если сумма первых трех цифр совпадает с суммой последних трех цифр номера."
   ]
  },
  {
   "cell_type": "code",
   "execution_count": 2,
   "metadata": {},
   "outputs": [
    {
     "name": "stdout",
     "output_type": "stream",
     "text": [
      "Cчастливый билет\n"
     ]
    }
   ],
   "source": [
    "number=int(input('Введите номер билета:'))\n",
    "a=number//100000\n",
    "b=(number-a*100000)//10000\n",
    "c=(number-a*100000-b*10000)//1000\n",
    "d=(number-a*100000-b*10000-c*1000)//100\n",
    "e=(number-a*100000-b*10000-c*1000-d*100)//10\n",
    "f=number%10\n",
    "if a+b+c==d+e+f:\n",
    "    print('Cчастливый билет')\n",
    "else:\n",
    "    print('Несчастливый билет')"
   ]
  },
  {
   "cell_type": "markdown",
   "metadata": {},
   "source": [
    "ЗАДАНИЕ 6\n",
    "\n",
    "Напишите программу, которая сможет вычислять площади трех фигур (круг, треугольник и прямоугольник). Тип фигуры запрашиваем через пользовательский ввод, после чего делаем запрос характеристик фигуры:\n",
    "\n",
    "если пользователь выбрал круг, запрашиваем его радиус,\n",
    "если треугольник – длины трех его сторон;\n",
    "если прямоугольник – длины двух его сторон."
   ]
  },
  {
   "cell_type": "code",
   "execution_count": 4,
   "metadata": {},
   "outputs": [
    {
     "name": "stdout",
     "output_type": "stream",
     "text": [
      "Площадь треугольника: 1.98\n"
     ]
    }
   ],
   "source": [
    "import math\n",
    "tip_figury=str(input('Введите тип фигуры:'))\n",
    "if tip_figury=='Круг':\n",
    "    radius=int(input('Введите радиус:'))\n",
    "    area=math.pi*(radius**2)\n",
    "    print('Площадь круга:', (round(area,2)))\n",
    "elif tip_figury=='Треугольник':\n",
    "    a=int(input('Введите длину 1 стороны:'))\n",
    "    b=int(input('Введите длину 2 стороны:'))\n",
    "    c=float(input('Введите длину 3 стороны:'))\n",
    "    p=(a+b+c)/2       \n",
    "    area=math.sqrt((p*(p-a)*(p-b)*(p-c)))\n",
    "    print('Площадь треугольника:', (round(area,2)))\n",
    "elif tip_figury=='Прямоугольник':\n",
    "    a=int(input('Введите длину 1 стороны:'))\n",
    "    b=int(input('Введите длину 2 стороны:'))\n",
    "    area=a*b\n",
    "    print('Площадь прямоугольника:', (round(area,2)))\n",
    "else:\n",
    "    print('Ошибка')"
   ]
  }
 ],
 "metadata": {
  "kernelspec": {
   "display_name": "Python 3",
   "language": "python",
   "name": "python3"
  },
  "language_info": {
   "codemirror_mode": {
    "name": "ipython",
    "version": 3
   },
   "file_extension": ".py",
   "mimetype": "text/x-python",
   "name": "python",
   "nbconvert_exporter": "python",
   "pygments_lexer": "ipython3",
   "version": "3.11.9"
  }
 },
 "nbformat": 4,
 "nbformat_minor": 2
}
