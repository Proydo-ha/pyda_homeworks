{
 "cells": [
  {
   "cell_type": "markdown",
   "metadata": {},
   "source": [
    "ЗАДАНИЕ 1\n",
    "Даны 2 переменных, в которых хранятся строки произвольной длины: phrase_1 и phrase_2.\n",
    "Напишите код, который проверяет какая из этих строк длиннее."
   ]
  },
  {
   "cell_type": "code",
   "execution_count": 1,
   "metadata": {},
   "outputs": [
    {
     "name": "stdout",
     "output_type": "stream",
     "text": [
      "Фраза 1 длиннее фразы 2\n"
     ]
    }
   ],
   "source": [
    "phrase_1=str(input('Введите фразу 1:'))\n",
    "phrase_2=str(input('Введите фразу 2:'))\n",
    "if len(phrase_1)>len(phrase_2): \n",
    "    print('Фраза 1 длиннее фразы 2')\n",
    "elif len(phrase_1)<len(phrase_2): \n",
    "    print('Фраза 2 длиннее фразы 1')\n",
    "else: print('Фразы равны')"
   ]
  },
  {
   "cell_type": "markdown",
   "metadata": {},
   "source": [
    "ЗАДАНИЕ 2\n",
    "Дана переменная, в которой хранится число (год). Необходимо написать программу, которая выведет, является ли данный год високосным или обычным."
   ]
  },
  {
   "cell_type": "code",
   "execution_count": 2,
   "metadata": {},
   "outputs": [
    {
     "name": "stdout",
     "output_type": "stream",
     "text": [
      "Обычный год\n"
     ]
    }
   ],
   "source": [
    "year=int(input('Введите год:'))\n",
    "if year % 4 == 0:\n",
    "    print('Високосный год')\n",
    "else: print('Обычный год')"
   ]
  },
  {
   "cell_type": "markdown",
   "metadata": {},
   "source": [
    "ЗАДАНИЕ 3 \n",
    "\n",
    "Необходимо написать программу, которая будет запрашивать у пользователя месяц и дату рождения и выводить соответствующий знак зодиака."
   ]
  },
  {
   "cell_type": "code",
   "execution_count": 7,
   "metadata": {},
   "outputs": [
    {
     "name": "stdout",
     "output_type": "stream",
     "text": [
      "Ваш знак: \n",
      " Дева\n"
     ]
    }
   ],
   "source": [
    "Month=str(input('Введите месяц:'))\n",
    "Day=int(input('Введите день:'))\n",
    "if ((Month=='Декабрь' and Day >= 22)or(Month=='Январь' and Day<= 19)):\n",
    "        zodiac_sign = (\"\\n Козерог\")\n",
    "elif ((Month=='Январь' and Day >= 20)or(Month=='Февраль' and Day<= 17)):\n",
    "        zodiac_sign = (\"\\n Водолей\")\n",
    "elif ((Month=='Февраль' and Day >= 18)or(Month=='Март' and Day<= 19)):\n",
    "        zodiac_sign = (\"\\n Рыбы\")\n",
    "elif ((Month=='Март' and Day >= 20)or(Month=='Апрель' and Day<= 19)):\n",
    "        zodiac_sign = (\"\\n Овен\")\n",
    "elif ((Month=='Апрель' and Day >= 20)or(Month=='Май' and Day<= 20)):\n",
    "        zodiac_sign = (\"\\n Телец\")\n",
    "elif ((Month=='Май' and Day >= 21)or(Month=='Июнь' and Day<= 20)):\n",
    "        zodiac_sign = (\"\\n Близнецы\")\n",
    "elif ((Month=='Июнь' and Day >= 21)or(Month=='Июль' and Day<= 22)):\n",
    "        zodiac_sign = (\"\\n Рак\")\n",
    "elif ((Month=='Июль' and Day >= 23)or(Month=='Август' and Day<= 22)): \n",
    "        zodiac_sign = (\"\\n Лев\")\n",
    "elif ((Month=='Август' and Day >= 23)or(Month=='Сентябрь' and Day<= 22)): \n",
    "        zodiac_sign = (\"\\n Дева\")\n",
    "elif ((Month=='Сентябрь' and Day >= 23)or(Month=='Октябрь' and Day<= 22)):\n",
    "        zodiac_sign = (\"\\n Весы\")\n",
    "elif ((Month=='Октябрь' and Day >= 23)or(Month=='Ноябрь' and Day<= 21)): \n",
    "        zodiac_sign = (\"\\n Скорпион\")\n",
    "elif ((Month=='Ноябрь' and Day >= 22)or(Month=='Декабрь' and Day<= 21)):\n",
    "        zodiac_sign = (\"\\n Стрелец\")\n",
    "print('Ваш знак:', zodiac_sign)"
   ]
  }
 ],
 "metadata": {
  "kernelspec": {
   "display_name": "Python 3",
   "language": "python",
   "name": "python3"
  },
  "language_info": {
   "codemirror_mode": {
    "name": "ipython",
    "version": 3
   },
   "file_extension": ".py",
   "mimetype": "text/x-python",
   "name": "python",
   "nbconvert_exporter": "python",
   "pygments_lexer": "ipython3",
   "version": "3.11.9"
  }
 },
 "nbformat": 4,
 "nbformat_minor": 2
}
